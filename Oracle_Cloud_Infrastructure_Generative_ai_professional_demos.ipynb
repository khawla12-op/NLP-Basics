{
  "cells": [
    {
      "cell_type": "code",
      "execution_count": null,
      "metadata": {
        "id": "FttjlOpu3ODX"
      },
      "outputs": [],
      "source": [
        "!pip install oci"
      ]
    },
    {
      "cell_type": "markdown",
      "metadata": {
        "id": "zpINDuz_3QTB"
      },
      "source": [
        "# Setting up OCI config for generative AI API :\n",
        "I can found the config inputs in the profile sections in my Oracle Cloud Platform"
      ]
    },
    {
      "cell_type": "code",
      "execution_count": null,
      "metadata": {
        "colab": {
          "base_uri": "https://localhost:8080/"
        },
        "id": "M41Cfl6cq6hn",
        "outputId": "a5b8ad96-6879-44ff-a45e-0eed190b6b1b"
      },
      "outputs": [
        {
          "name": "stdout",
          "output_type": "stream",
          "text": [
            "**************************Chat Result**************************\n",
            "{'status': 200, 'headers': {'content-type': 'application/json', 'opc-request-id': '542F2422481D46D69DCE8C5AD507112F/7488C74FC5B1EB333980824013DC8945/145DD331D137CDCF34BA3B91C4B895B5', 'content-encoding': 'gzip', 'content-length': '762'}, 'data': {\n",
            "  \"chat_response\": {\n",
            "    \"api_format\": \"COHERE\",\n",
            "    \"chat_history\": [\n",
            "      {\n",
            "        \"message\": \"Where is Morocco ?\",\n",
            "        \"role\": \"USER\"\n",
            "      },\n",
            "      {\n",
            "        \"message\": \"Morocco is a country located in North Africa. It is bordered by the Mediterranean Sea to the north, Algeria to the east, the Western Sahara to the south, and the Atlantic Ocean to the west. Morocco also includes the Spanish-owned plazas of Ceuta and Melilla on its northern coast, as well as several small islands, the largest of which is Pereira.\\n\\nMorocco's landscape varies from the snowy peaks of the High Atlas mountains to the Saharan deserts and the lush forests of the Rif region. The country has a rich cultural heritage, blending Arab, Berber, and European influences, and its cities are filled with vibrant souks, historic medinas, and stunning architecture.\\n\\nRabat, the capital city of Morocco, is located on the Atlantic coast, and the largest city, Casablanca, is a major economic and cultural hub. Other notable cities include Marrakech, known for its bustling marketplace, and Tangier, a vibrant port city on the Mediterranean coast.\",\n",
            "        \"role\": \"CHATBOT\",\n",
            "        \"tool_calls\": null\n",
            "      }\n",
            "    ],\n",
            "    \"citations\": null,\n",
            "    \"documents\": null,\n",
            "    \"error_message\": null,\n",
            "    \"finish_reason\": \"COMPLETE\",\n",
            "    \"is_search_required\": null,\n",
            "    \"prompt\": null,\n",
            "    \"search_queries\": null,\n",
            "    \"text\": \"Morocco is a country located in North Africa. It is bordered by the Mediterranean Sea to the north, Algeria to the east, the Western Sahara to the south, and the Atlantic Ocean to the west. Morocco also includes the Spanish-owned plazas of Ceuta and Melilla on its northern coast, as well as several small islands, the largest of which is Pereira.\\n\\nMorocco's landscape varies from the snowy peaks of the High Atlas mountains to the Saharan deserts and the lush forests of the Rif region. The country has a rich cultural heritage, blending Arab, Berber, and European influences, and its cities are filled with vibrant souks, historic medinas, and stunning architecture.\\n\\nRabat, the capital city of Morocco, is located on the Atlantic coast, and the largest city, Casablanca, is a major economic and cultural hub. Other notable cities include Marrakech, known for its bustling marketplace, and Tangier, a vibrant port city on the Mediterranean coast.\",\n",
            "    \"tool_calls\": null\n",
            "  },\n",
            "  \"model_id\": \"ocid1.generativeaimodel.oc1.us-chicago-1.amaaaaaask7dceyawk6mgunzodenakhkuwxanvt6wo3jcpf72ln52dymk4wq\",\n",
            "  \"model_version\": \"1.2\"\n",
            "}, 'request': <oci.request.Request object at 0x7b880f91bbe0>, 'next_page': None, 'request_id': '542F2422481D46D69DCE8C5AD507112F/7488C74FC5B1EB333980824013DC8945/145DD331D137CDCF34BA3B91C4B895B5'}\n"
          ]
        }
      ],
      "source": [
        "import oci\n",
        "\n",
        "# Setup basic variables\n",
        "# Auth Config\n",
        "compartment_id = \"ocid1.tenancy.oc1..aaaaaaaamizsjjk2ag4t5m7gltzvkz5e6kgwny43o3pudywevj2ut6axocia\"\n",
        "CONFIG_PROFILE = \"DEFAULT\"\n",
        "config = {\n",
        "    \"user\": \"put it here\",\n",
        "    \"key_file\": \"oci_api_key.pem\",  # Path within the notebook's directory\n",
        "    \"fingerprint\": \"put it here\",\n",
        "    \"tenancy\": \"put it here\",\n",
        "    \"region\": \"us-chicago-1\"\n",
        "}\n",
        "\n",
        "from oci.config import validate_config\n",
        "validate_config(config)\n",
        "\n",
        "# Service endpoint\n",
        "endpoint = \"https://inference.generativeai.us-chicago-1.oci.oraclecloud.com\"  #Pay attention to the region name\n",
        "\n",
        "generative_ai_inference_client = oci.generative_ai_inference.GenerativeAiInferenceClient(\n",
        "    config=config,\n",
        "    service_endpoint=endpoint,\n",
        "    retry_strategy=oci.retry.NoneRetryStrategy(),\n",
        "    timeout=(10, 240)\n",
        ")\n",
        "\n",
        "chat_detail = oci.generative_ai_inference.models.ChatDetails()\n",
        "\n",
        "chat_request = oci.generative_ai_inference.models.CohereChatRequest()\n",
        "chat_request.message = \"Where is Morocco ?\"\n",
        "chat_request.max_tokens = 600\n",
        "chat_request.temperature = 1\n",
        "chat_request.frequency_penalty = 0\n",
        "chat_request.top_p = 0.75\n",
        "chat_request.top_k = 0\n",
        "\n",
        "chat_detail.serving_mode = oci.generative_ai_inference.models.OnDemandServingMode(\n",
        "    model_id=\"ocid1.generativeaimodel.oc1.us-chicago-1.amaaaaaask7dceyawk6mgunzodenakhkuwxanvt6wo3jcpf72ln52dymk4wq\"\n",
        ")\n",
        "chat_detail.chat_request = chat_request\n",
        "chat_detail.compartment_id = compartment_id\n",
        "\n",
        "chat_response = generative_ai_inference_client.chat(chat_detail)\n",
        "\n",
        "# Print result\n",
        "print(\"**************************Chat Result**************************\")\n",
        "print(vars(chat_response))\n"
      ]
    },
    {
      "cell_type": "code",
      "execution_count": null,
      "metadata": {
        "id": "RGK7M1n6q7uC"
      },
      "outputs": [],
      "source": []
    }
  ],
  "metadata": {
    "colab": {
      "provenance": []
    },
    "kernelspec": {
      "display_name": "Python 3",
      "name": "python3"
    },
    "language_info": {
      "name": "python"
    }
  },
  "nbformat": 4,
  "nbformat_minor": 0
}
