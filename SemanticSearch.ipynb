{
 "cells": [
  {
   "cell_type": "markdown",
   "id": "97a60f1f",
   "metadata": {},
   "source": [
    "### OCI Data Science - Useful Tips\n",
    "<details>\n",
    "<summary><font size=\"2\">Check for Public Internet Access</font></summary>\n",
    "\n",
    "```python\n",
    "import requests\n",
    "response = requests.get(\"https://oracle.com\")\n",
    "assert response.status_code==200, \"Internet connection failed\"\n",
    "```\n",
    "</details>\n",
    "<details>\n",
    "<summary><font size=\"2\">Helpful Documentation </font></summary>\n",
    "<ul><li><a href=\"https://docs.cloud.oracle.com/en-us/iaas/data-science/using/data-science.htm\">Data Science Service Documentation</a></li>\n",
    "<li><a href=\"https://docs.cloud.oracle.com/iaas/tools/ads-sdk/latest/index.html\">ADS documentation</a></li>\n",
    "</ul>\n",
    "</details>\n",
    "<details>\n",
    "<summary><font size=\"2\">Typical Cell Imports and Settings for ADS</font></summary>\n",
    "\n",
    "```python\n",
    "%load_ext autoreload\n",
    "%autoreload 2\n",
    "%matplotlib inline\n",
    "\n",
    "import warnings\n",
    "warnings.filterwarnings('ignore')\n",
    "\n",
    "import logging\n",
    "logging.basicConfig(format='%(levelname)s:%(message)s', level=logging.ERROR)\n",
    "\n",
    "import ads\n",
    "from ads.dataset.factory import DatasetFactory\n",
    "from ads.automl.provider import OracleAutoMLProvider\n",
    "from ads.automl.driver import AutoML\n",
    "from ads.evaluations.evaluator import ADSEvaluator\n",
    "from ads.common.data import ADSData\n",
    "from ads.explanations.explainer import ADSExplainer\n",
    "from ads.explanations.mlx_global_explainer import MLXGlobalExplainer\n",
    "from ads.explanations.mlx_local_explainer import MLXLocalExplainer\n",
    "from ads.catalog.model import ModelCatalog\n",
    "from ads.common.model_artifact import ModelArtifact\n",
    "```\n",
    "</details>\n",
    "<details>\n",
    "<summary><font size=\"2\">Useful Environment Variables</font></summary>\n",
    "\n",
    "```python\n",
    "import os\n",
    "print(os.environ[\"NB_SESSION_COMPARTMENT_OCID\"])\n",
    "print(os.environ[\"PROJECT_OCID\"])\n",
    "print(os.environ[\"USER_OCID\"])\n",
    "print(os.environ[\"TENANCY_OCID\"])\n",
    "print(os.environ[\"NB_REGION\"])\n",
    "```\n",
    "</details>"
   ]
  },
  {
   "cell_type": "markdown",
   "id": "7fcac398",
   "metadata": {},
   "source": [
    "# Search using Keyword and Vector Database"
   ]
  },
  {
   "cell_type": "code",
   "execution_count": null,
   "id": "e991ed5d",
   "metadata": {
    "tags": []
   },
   "outputs": [],
   "source": [
    "# !pip install cohere\n",
    "# !pip install weaviate-client"
   ]
  },
  {
   "cell_type": "code",
   "execution_count": 1,
   "id": "d77ccfda",
   "metadata": {
    "tags": []
   },
   "outputs": [],
   "source": [
    "# import libraries\n",
    "import weaviate\n",
    "import cohere"
   ]
  },
  {
   "cell_type": "code",
   "execution_count": 2,
   "id": "8319b542",
   "metadata": {
    "tags": []
   },
   "outputs": [],
   "source": [
    "# Add your Cohere API key here\n",
    "# You can obtain a key by signing up in https://dashboard.cohere.com/ or https://docs.cohere.com/reference/key\n",
    "cohere_api_key = ''"
   ]
  },
  {
   "cell_type": "code",
   "execution_count": 3,
   "id": "78381ca1",
   "metadata": {
    "tags": []
   },
   "outputs": [],
   "source": [
    "# Create a Cohere client object\n",
    "co = cohere.Client(cohere_api_key)"
   ]
  },
  {
   "cell_type": "code",
   "execution_count": 4,
   "id": "2544f870",
   "metadata": {
    "tags": []
   },
   "outputs": [
    {
     "name": "stderr",
     "output_type": "stream",
     "text": [
      "/home/datascience/conda/generalml_p38_cpu_v1/lib/python3.8/site-packages/weaviate/warnings.py:121: DeprecationWarning: Dep005: You are using weaviate-client version 3.26.1. The latest version is 4.5.4.\n",
      "            Please consider upgrading to the latest version. See https://weaviate.io/developers/weaviate/client-libraries/python for details.\n",
      "  warnings.warn(\n"
     ]
    }
   ],
   "source": [
    "# Create a vector database object\n",
    "# Connect to the Weaviate demo databse containing 10M wikipedia vectors\n",
    "# You can obtain a key from https://weaviate.io and refer to https://weaviate.io/developers/wcs/authentication#connect-with-an-api\n",
    "\n",
    "auth_config = weaviate.auth.AuthApiKey(api_key=\"\")\n",
    "client = weaviate.Client(\n",
    "    url=\"https://cohere-demo.weaviate.network/\",\n",
    "    auth_client_secret=auth_config,\n",
    "    additional_headers={\n",
    "        \"X-Cohere-Api-Key\": cohere_api_key,\n",
    "    }\n",
    ")"
   ]
  },
  {
   "cell_type": "code",
   "execution_count": 5,
   "id": "bc33194d",
   "metadata": {
    "tags": []
   },
   "outputs": [],
   "source": [
    "# Keyword Function\n",
    "def keyword_search(query, results_lang='en', num_results=3):\n",
    "    properties = [\"text\", \"title\", \"url\"]\n",
    "\n",
    "\n",
    "    where_filter = {\n",
    "    \"path\": [\"lang\"],\n",
    "    \"operator\": \"Equal\",\n",
    "    \"valueString\": results_lang\n",
    "    }\n",
    "\n",
    "\n",
    "    response = (\n",
    "    client.query.get(\"Articles\", properties)\n",
    "    .with_bm25(\n",
    "    query=query\n",
    "    )\n",
    "    .with_where(where_filter)\n",
    "    .with_limit(num_results)\n",
    "    .do()\n",
    "    )\n",
    "    result = response['data']['Get']['Articles']\n",
    "    return result"
   ]
  },
  {
   "cell_type": "code",
   "execution_count": 6,
   "id": "9a7e8d89",
   "metadata": {
    "tags": []
   },
   "outputs": [],
   "source": [
    "# Example usage\n",
    "query = \"What is the highest mountain peak in the world?\"\n",
    "top_documents = keyword_search(query)"
   ]
  },
  {
   "cell_type": "code",
   "execution_count": 7,
   "id": "85e5683a",
   "metadata": {
    "tags": []
   },
   "outputs": [
    {
     "data": {
      "text/plain": [
       "[{'text': \"The Polish scientist and explorer Count Paul Edmund Strzelecki conducted surveying work in the Australian Alps in 1839 and, led by his two Aboriginal guides Charlie Tarra and Jackie, became the first European to ascend Australia's highest peak, which he named Mount Kosciuszko in honour of the Polish patriot Tadeusz Kościuszko.European explorers penetrated deeper into the interior in the 1840s in a quest to discover new lands for agriculture or answer scientific enquiries. The German scientist Ludwig Leichhardt led three expeditions in northern Australia in this decade, sometimes with the help of Aboriginal guides, identifying the grazing potential of the region and making important discoveries in the fields of botany and geology. He and his party disappeared in 1848 while attempting to cross the continent from east to west. Edmund Kennedy led an expedition into what is now far-western Queensland in 1847 before being speared by Aborigines in the Cape York Peninsula in 1848.\",\n",
       "  'title': 'History of Australia',\n",
       "  'url': 'https://en.wikipedia.org/wiki?curid=39582'},\n",
       " {'text': \"As desert life proves arduous, the Israelites complain and long for Egypt, but God miraculously provides manna for them to eat and water to drink. The Israelites arrive at the mountain of God, where Moses's father-in-law Jethro visits Moses; at his suggestion, Moses appoints judges over Israel. God asks whether they will agree to be his people. They accept. The people gather at the foot of the mountain, and with thunder and lightning, fire and clouds of smoke, the sound of trumpets, and the trembling of the mountain, God appears on the peak, and the people see the cloud and hear the voice (or possibly sound) of God. God tells Moses to ascend the mountain. God pronounces the Ten Commandments (the Ethical Decalogue) in the hearing of all Israel. Moses goes up the mountain into the presence of God, who pronounces the Covenant Code of ritual and civil law and promises Canaan to them if they obey. Moses comes down from the mountain and writes down God's words, and the people agree to keep them. God calls Moses up the mountain again, where he remains for forty days and forty nights, after which he returns, bearing the set of stone tablets.\",\n",
       "  'title': 'Book of Exodus',\n",
       "  'url': 'https://en.wikipedia.org/wiki?curid=9662'},\n",
       " {'text': 'The complicated geological past of the region is obvious from the morphology of Olympus and its National Park. Features include deep gorges and lots of smooth peaks, many of them over , including Aghios Antonios (), Kalogeros (), Toumpa () and Profitis Ilias (). However, it is the central, almost vertical, rocky peaks, that impress the visitor. Over the town of Litochoro, on the horizon, the relief of the mountain displays an apparent \"V\", between two peaks of almost equal height. The left limb is the peak named Mytikas (or Pantheon). It is Greece\\'s highest peak. Then, on the right is Stefani (or Thronos Dios [Throne of Zeus]), which presents the most impressive and steep peak of Olympus, with its last sharply rising 200 meters presenting the greatest challenge for climbers. Further south, Skolio ( second highest sub-peak – ) completes an arc of about 200 degrees, with its steep slopes forming on the west side, like a wall, an impressive precipitous amphitheatrical cavity, in depth and in circumference, the \\'Megala Kazania\\'. On the east side of the high peaks the steep slopes form zone like parallel folds, the \\'Zonaria\\'. Even narrower and steeper scorings, the \\'Loukia\\', lead to the peak.',\n",
       "  'title': 'Mount Olympus',\n",
       "  'url': 'https://en.wikipedia.org/wiki?curid=12418604'}]"
      ]
     },
     "execution_count": 7,
     "metadata": {},
     "output_type": "execute_result"
    }
   ],
   "source": [
    "top_documents"
   ]
  },
  {
   "cell_type": "code",
   "execution_count": 8,
   "id": "932a3ae7",
   "metadata": {
    "tags": []
   },
   "outputs": [],
   "source": [
    "# Example usage\n",
    "query1 = \"What is the capital of United States of America?\"\n",
    "top_documents1 = keyword_search(query1)"
   ]
  },
  {
   "cell_type": "code",
   "execution_count": 9,
   "id": "3728c89b",
   "metadata": {
    "tags": []
   },
   "outputs": [
    {
     "data": {
      "text/plain": [
       "[{'text': 'In 2013 longtime New Age author Marianne Williamson launched a campaign for a seat in the United States House of Representatives, telling \"The New York Times\" that her type of spirituality was what American politics needed. \"America has swerved from its ethical center\", she said. Running as an independent in west Los Angeles, she finished fourth in her district\\'s open primary election with 13% of the vote. In early 2019, Williamson announced her candidacy for the Democratic Party nomination for president of the United States in the 2020 United States presidential election. A 5,300-word article about her presidential campaign in \"The Washington Post\" said she had \"plans to fix America with love. Tough love\". In January 2020 she withdrew her bid for the nomination.',\n",
       "  'title': 'New Age',\n",
       "  'url': 'https://en.wikipedia.org/wiki?curid=21742'},\n",
       " {'text': 'Governor Juan José Estrada, member of the Conservative Party, led a revolt against President José Santos Zelaya, member of the Liberal Party reelected in 1906. This became what is known as the Estrada rebellion. The United States supported the conservative forces because Zelaya had wanted to work with Germany or Japan to build a new canal through the country. The U.S. controlled the Panama Canal and did not want competition from another country outside of the Americas. Thomas P Moffat, a US council in Bluefields, Nicaragua would give overt support, in conflict with the US trying to only give covert support. Direct intervention would be pushed by the secretary of state Philander C. Knox. Two Americans were executed by Zelaya for their participation with the conservatives. Seeing an opportunity the United States became directly involved in the rebellion and sent in troops, which landed on the Mosquito Coast. On December 14, 1909 Zelaya was forced to resign under diplomatic pressure from America and fled Nicaragua. Before Zelaya fled, he along with the liberal assembly choose José Madriz to lead Nicaragua. The U.S. refused to recognize Madriz. The conservatives eventually beat back the liberals and forced Madriz to resign. Estrada then became the president. Thomas Cleland Dawson was sent as a special agent to the country and determined that any election held would bring the liberals into power, so had Estrada set up a constituent assembly to elect him instead. In August 1910 Estrada became President of Nicaragua under U.S. recognition, agreeing to certain conditions from the U.S. After the intervention, the U.S. and Nicaragua signed a treaty on June 6, 1911.',\n",
       "  'title': 'United States involvement in regime change',\n",
       "  'url': 'https://en.wikipedia.org/wiki?curid=37258993'},\n",
       " {'text': 'In what became known as the \"Banana Wars,\" between the end of the Spanish–American War in 1898 and the inception of the Good Neighbor Policy in 1934, the U.S. staged many military invasions and interventions in Central America and the Caribbean. One of these incursions, in 1903, involved regime change rather than regime preservation. The United States Marine Corps, which most often fought these wars, developed a manual called \"The Strategy and Tactics of Small Wars\" in 1921 based on its experiences. On occasion, the Navy provided gunfire support and Army troops were also used. The United Fruit Company and Standard Fruit Company dominated Honduras\\' key banana export sector and associated land holdings and railways. The U.S. staged invasions and incursions of US troops in 1903 (supporting a coup by Manuel Bonilla), 1907 (supporting Bonilla against a Nicaraguan-backed coup), 1911 and 1912 (defending the regime of Miguel R. Davila from an uprising), 1919 (peacekeeping during a civil war, and installing the caretaker government of Francisco Bográn), 1920 (defending the Bográn regime from a general strike), 1924 (defending the regime of Rafael López Gutiérrez from an uprising) and 1925 (defending the elected government of Miguel Paz Barahona) to defend US interests.',\n",
       "  'title': 'United States involvement in regime change',\n",
       "  'url': 'https://en.wikipedia.org/wiki?curid=37258993'}]"
      ]
     },
     "execution_count": 9,
     "metadata": {},
     "output_type": "execute_result"
    }
   ],
   "source": [
    "top_documents1"
   ]
  },
  {
   "cell_type": "markdown",
   "id": "4ce0ff9b",
   "metadata": {},
   "source": [
    "# Search usinig Dense Retrieval and Vector Database"
   ]
  },
  {
   "cell_type": "code",
   "execution_count": 10,
   "id": "5fc6cd02",
   "metadata": {
    "tags": []
   },
   "outputs": [],
   "source": [
    "# Dense Retrieval function\n",
    "def dense_retrieval(query, results_lang='en', num_results=3):\n",
    "\n",
    "    nearText = {\"concepts\": [query]}\n",
    "    properties = [\"text\", \"title\", \"url\", \"_additional {distance}\"]\n",
    "\n",
    "    # To filter by language\n",
    "    where_filter = {\n",
    "        \"path\": [\"lang\"],\n",
    "        \"operator\": \"Equal\",\n",
    "        \"valueString\": results_lang\n",
    "        }\n",
    "    response = (\n",
    "        client.query\n",
    "        .get(\"Articles\", properties)\n",
    "        .with_near_text(nearText)\n",
    "        .with_where(where_filter)\n",
    "        .with_limit(num_results)\n",
    "        .do()\n",
    "    )\n",
    "\n",
    "    result = response['data']['Get']['Articles']\n",
    "    return result"
   ]
  },
  {
   "cell_type": "code",
   "execution_count": 11,
   "id": "e9ea58b6",
   "metadata": {
    "tags": []
   },
   "outputs": [],
   "source": [
    "top_documents = dense_retrieval(query)"
   ]
  },
  {
   "cell_type": "code",
   "execution_count": 12,
   "id": "ab1fe8ab",
   "metadata": {
    "tags": []
   },
   "outputs": [
    {
     "data": {
      "text/plain": [
       "[{'_additional': {'distance': -150.58865},\n",
       "  'text': \"Heights of mountains are typically measured above sea level. Using this metric, Mount Everest is the highest mountain on Earth, at . There are at least 100 mountains with heights of over above sea level, all of which are located in central and southern Asia. The highest mountains above sea level are generally not the highest above the surrounding terrain. There is no precise definition of surrounding base, but Denali, Mount Kilimanjaro and Nanga Parbat are possible candidates for the tallest mountain on land by this measure. The bases of mountain islands are below sea level, and given this consideration Mauna Kea ( above sea level) is the world's tallest mountain and volcano, rising about from the Pacific Ocean floor.\",\n",
       "  'title': 'Mountain',\n",
       "  'url': 'https://en.wikipedia.org/wiki?curid=37754'},\n",
       " {'_additional': {'distance': -150.0647},\n",
       "  'text': 'Until 1852, Kangchenjunga was assumed to be the highest mountain in the world, but calculations and measurements by the Great Trigonometrical Survey of India in 1849 showed that Mount Everest, known as Peak XV at the time, is actually higher. After allowing for further verification of all calculations, it was officially announced in 1856 that Kangchenjunga was the third highest mountain.',\n",
       "  'title': 'Kangchenjunga',\n",
       "  'url': 'https://en.wikipedia.org/wiki?curid=17073'},\n",
       " {'_additional': {'distance': -149.33359},\n",
       "  'text': 'A 1986 expedition led by George Wallerstein made an inaccurate measurement showing that K2 was taller than Mount Everest, and therefore the tallest mountain in the world. A corrected measurement was made in 1987, but by then the claim that K2 was the tallest mountain in the world had already made it into many news reports and reference works.',\n",
       "  'title': 'K2',\n",
       "  'url': 'https://en.wikipedia.org/wiki?curid=17359'}]"
      ]
     },
     "execution_count": 12,
     "metadata": {},
     "output_type": "execute_result"
    }
   ],
   "source": [
    "top_documents"
   ]
  },
  {
   "cell_type": "code",
   "execution_count": 13,
   "id": "663bcbfd",
   "metadata": {
    "tags": []
   },
   "outputs": [],
   "source": [
    "# Example usage\n",
    "top_documents1 = dense_retrieval(query1)"
   ]
  },
  {
   "cell_type": "code",
   "execution_count": 14,
   "id": "82b8b3b9",
   "metadata": {
    "tags": []
   },
   "outputs": [
    {
     "data": {
      "text/plain": [
       "[{'_additional': {'distance': -148.4822},\n",
       "  'text': \"In 1785, the assembly of the Congress of the Confederation made New York City the national capital shortly after the war. New York was the last capital of the U.S. under the Articles of Confederation and the first capital under the Constitution of the United States. New York City as the U.S. capital hosted several events of national scope in 1789—the first President of the United States, George Washington, was inaugurated; the first United States Congress and the Supreme Court of the United States each assembled for the first time; and the United States Bill of Rights was drafted, all at Federal Hall on Wall Street. In 1790, New York surpassed Philadelphia as the nation's largest city. At the end of that year, pursuant to the Residence Act, the national capital was moved to Philadelphia.\",\n",
       "  'title': 'New York City',\n",
       "  'url': 'https://en.wikipedia.org/wiki?curid=645042'},\n",
       " {'_additional': {'distance': -147.14255},\n",
       "  'text': \"The United States of America (U.S.A. or USA), commonly known as the United States (U.S. or US) or America, is a country primarily in North America. It consists of 50 states, a federal district, five major unincorporated territories, nine Minor Outlying Islands, and 326 Indian reservations. It is the world's third-largest country by both land and total area. The United States shares land borders with Canada to its north and with Mexico to its south. It has maritime borders with the Bahamas, Cuba, Russia, and other nations. With a population of over 331 million, it is the most populous country in the Americas and the third most populous in the world. The national capital is Washington, D.C., and the most populous city and financial center is New York City.\",\n",
       "  'title': 'United States',\n",
       "  'url': 'https://en.wikipedia.org/wiki?curid=3434750'},\n",
       " {'_additional': {'distance': -146.67282},\n",
       "  'text': 'The word \"capitol\" has since been adopted, following the example of the United States Capitol, in many jurisdictions also for other government buildings, for instance the \"capitols\" in the individual capitals of the states of the United States. This, in turn, has led to frequent misspellings of \"capitol\" and \"capital\". The former refers to a building which houses government institutions; the latter refers to the entire city.',\n",
       "  'title': 'United States Capitol',\n",
       "  'url': 'https://en.wikipedia.org/wiki?curid=31979'}]"
      ]
     },
     "execution_count": 14,
     "metadata": {},
     "output_type": "execute_result"
    }
   ],
   "source": [
    "top_documents1"
   ]
  },
  {
   "cell_type": "markdown",
   "id": "6ff6dd6d",
   "metadata": {},
   "source": [
    "# Search using Dense Retrieval, Rerank and Vector Database"
   ]
  },
  {
   "cell_type": "code",
   "execution_count": 15,
   "id": "01c7dead",
   "metadata": {
    "tags": []
   },
   "outputs": [],
   "source": [
    "def rerank_responses(query, responses, num_responses=2):\n",
    "    reranked_responses = co.rerank(\n",
    "        model = 'rerank-english-v2.0',\n",
    "        query = query,\n",
    "        documents = responses,\n",
    "        top_n = num_responses,\n",
    "    )\n",
    "    return reranked_responses"
   ]
  },
  {
   "cell_type": "code",
   "execution_count": 16,
   "id": "5b8fe148",
   "metadata": {
    "tags": []
   },
   "outputs": [],
   "source": [
    "texts = [result.get('text') for result in top_documents]\n",
    "reranked_text = rerank_responses(query, texts)"
   ]
  },
  {
   "cell_type": "code",
   "execution_count": 17,
   "id": "43be122a",
   "metadata": {
    "tags": []
   },
   "outputs": [
    {
     "name": "stdout",
     "output_type": "stream",
     "text": [
      "i:0\n",
      "RerankResult<document['text']: Until 1852, Kangchenjunga was assumed to be the highest mountain in the world, but calculations and measurements by the Great Trigonometrical Survey of India in 1849 showed that Mount Everest, known as Peak XV at the time, is actually higher. After allowing for further verification of all calculations, it was officially announced in 1856 that Kangchenjunga was the third highest mountain., index: 1, relevance_score: 0.92892635>\n",
      "i:1\n",
      "RerankResult<document['text']: A 1986 expedition led by George Wallerstein made an inaccurate measurement showing that K2 was taller than Mount Everest, and therefore the tallest mountain in the world. A corrected measurement was made in 1987, but by then the claim that K2 was the tallest mountain in the world had already made it into many news reports and reference works., index: 2, relevance_score: 0.876423>\n"
     ]
    }
   ],
   "source": [
    "for i, result in enumerate(reranked_text):\n",
    "    print(f\"i:{i}\")\n",
    "    print(f\"{result}\")"
   ]
  },
  {
   "cell_type": "code",
   "execution_count": 18,
   "id": "47dc2039",
   "metadata": {
    "tags": []
   },
   "outputs": [],
   "source": [
    "texts = [result.get('text') for result in top_documents1]\n",
    "reranked_text1 = rerank_responses(query1, texts)"
   ]
  },
  {
   "cell_type": "code",
   "execution_count": 19,
   "id": "e5602eec",
   "metadata": {
    "tags": []
   },
   "outputs": [
    {
     "name": "stdout",
     "output_type": "stream",
     "text": [
      "i:0\n",
      "RerankResult<document['text']: The United States of America (U.S.A. or USA), commonly known as the United States (U.S. or US) or America, is a country primarily in North America. It consists of 50 states, a federal district, five major unincorporated territories, nine Minor Outlying Islands, and 326 Indian reservations. It is the world's third-largest country by both land and total area. The United States shares land borders with Canada to its north and with Mexico to its south. It has maritime borders with the Bahamas, Cuba, Russia, and other nations. With a population of over 331 million, it is the most populous country in the Americas and the third most populous in the world. The national capital is Washington, D.C., and the most populous city and financial center is New York City., index: 1, relevance_score: 0.95719784>\n",
      "i:1\n",
      "RerankResult<document['text']: In 1785, the assembly of the Congress of the Confederation made New York City the national capital shortly after the war. New York was the last capital of the U.S. under the Articles of Confederation and the first capital under the Constitution of the United States. New York City as the U.S. capital hosted several events of national scope in 1789—the first President of the United States, George Washington, was inaugurated; the first United States Congress and the Supreme Court of the United States each assembled for the first time; and the United States Bill of Rights was drafted, all at Federal Hall on Wall Street. In 1790, New York surpassed Philadelphia as the nation's largest city. At the end of that year, pursuant to the Residence Act, the national capital was moved to Philadelphia., index: 0, relevance_score: 0.90582335>\n"
     ]
    }
   ],
   "source": [
    "for i, result in enumerate(reranked_text1):\n",
    "    print(f\"i:{i}\")\n",
    "    print(f\"{result}\")"
   ]
  },
  {
   "cell_type": "code",
   "execution_count": null,
   "id": "6455c1ea-e162-45f0-8e04-207614a4d5b8",
   "metadata": {},
   "outputs": [],
   "source": []
  }
 ],
 "metadata": {
  "kernelspec": {
   "display_name": "Python [conda env:generalml_p38_cpu_v1]",
   "language": "python",
   "name": "conda-env-generalml_p38_cpu_v1-py"
  },
  "language_info": {
   "codemirror_mode": {
    "name": "ipython",
    "version": 3
   },
   "file_extension": ".py",
   "mimetype": "text/x-python",
   "name": "python",
   "nbconvert_exporter": "python",
   "pygments_lexer": "ipython3",
   "version": "3.8.13"
  }
 },
 "nbformat": 4,
 "nbformat_minor": 5
}
