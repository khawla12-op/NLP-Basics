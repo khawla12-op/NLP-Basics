{
 "cells": [
  {
   "cell_type": "markdown",
   "id": "a8cd8b11",
   "metadata": {},
   "source": [
    "### OCI Data Science - Useful Tips\n",
    "<details>\n",
    "<summary><font size=\"2\">Check for Public Internet Access</font></summary>\n",
    "\n",
    "```python\n",
    "import requests\n",
    "response = requests.get(\"https://oracle.com\")\n",
    "assert response.status_code==200, \"Internet connection failed\"\n",
    "```\n",
    "</details>\n",
    "<details>\n",
    "<summary><font size=\"2\">Helpful Documentation </font></summary>\n",
    "<ul><li><a href=\"https://docs.cloud.oracle.com/en-us/iaas/data-science/using/data-science.htm\">Data Science Service Documentation</a></li>\n",
    "<li><a href=\"https://docs.cloud.oracle.com/iaas/tools/ads-sdk/latest/index.html\">ADS documentation</a></li>\n",
    "</ul>\n",
    "</details>\n",
    "<details>\n",
    "<summary><font size=\"2\">Typical Cell Imports and Settings for ADS</font></summary>\n",
    "\n",
    "```python\n",
    "%load_ext autoreload\n",
    "%autoreload 2\n",
    "%matplotlib inline\n",
    "\n",
    "import warnings\n",
    "warnings.filterwarnings('ignore')\n",
    "\n",
    "import logging\n",
    "logging.basicConfig(format='%(levelname)s:%(message)s', level=logging.ERROR)\n",
    "\n",
    "import ads\n",
    "from ads.dataset.factory import DatasetFactory\n",
    "from ads.automl.provider import OracleAutoMLProvider\n",
    "from ads.automl.driver import AutoML\n",
    "from ads.evaluations.evaluator import ADSEvaluator\n",
    "from ads.common.data import ADSData\n",
    "from ads.explanations.explainer import ADSExplainer\n",
    "from ads.explanations.mlx_global_explainer import MLXGlobalExplainer\n",
    "from ads.explanations.mlx_local_explainer import MLXLocalExplainer\n",
    "from ads.catalog.model import ModelCatalog\n",
    "from ads.common.model_artifact import ModelArtifact\n",
    "```\n",
    "</details>\n",
    "<details>\n",
    "<summary><font size=\"2\">Useful Environment Variables</font></summary>\n",
    "\n",
    "```python\n",
    "import os\n",
    "print(os.environ[\"NB_SESSION_COMPARTMENT_OCID\"])\n",
    "print(os.environ[\"PROJECT_OCID\"])\n",
    "print(os.environ[\"USER_OCID\"])\n",
    "print(os.environ[\"TENANCY_OCID\"])\n",
    "print(os.environ[\"NB_REGION\"])\n",
    "```\n",
    "</details>"
   ]
  },
  {
   "cell_type": "markdown",
   "id": "df7e0756",
   "metadata": {},
   "source": [
    "# Basic Search"
   ]
  },
  {
   "cell_type": "markdown",
   "id": "864ec05a-e63b-4acc-9aa0-43f3dadcf2a1",
   "metadata": {},
   "source": [
    "This list below will act as our database for the search. "
   ]
  },
  {
   "cell_type": "code",
   "execution_count": null,
   "id": "30e080e2",
   "metadata": {
    "tags": []
   },
   "outputs": [],
   "source": [
    "# Simulated database of Wikipedia-like entries\n",
    "articles = [\n",
    "    {'title': 'Python (programming language)', 'link': 'https://en.wikipedia.org/wiki/Python_(programming_language)'},\n",
    "    {'title': 'History of Python', 'link': 'https://en.wikipedia.org/wiki/History_of_Python'},\n",
    "    {'title': 'Monty Python', 'link': 'https://en.wikipedia.org/wiki/Monty_Python'},\n",
    "    {'title': 'Anaconda (Python distribution)', 'link': 'https://en.wikipedia.org/wiki/Anaconda_(Python_distribution)'},\n",
    "    {'title': 'Python molurus', 'link': 'https://en.wikipedia.org/wiki/Python_molurus'},\n",
    "    {'title': 'Association football', 'link': 'https://en.wikipedia.org/wiki/Association_football'},\n",
    "    {'title': 'FIFA World Cup', 'link': 'https://en.wikipedia.org/wiki/FIFA_World_Cup'},\n",
    "    {'title': 'History of artificial intelligence', 'link': 'https://en.wikipedia.org/wiki/History_of_artificial_intelligence'},\n",
    "    {'title': 'Football in England', 'link': 'https://en.wikipedia.org/wiki/Football_in_England'},\n",
    "    {'title': 'Applications of artificial intelligence', 'link': 'https://en.wikipedia.org/wiki/Applications_of_artificial_intelligence'}\n",
    "]"
   ]
  },
  {
   "cell_type": "markdown",
   "id": "401c8558",
   "metadata": {},
   "source": [
    "This function is designed to perform a keyword search on the provided list of articles. It takes two parameters: articles, which is the list of article dictionaries, and keyword, which is the user's search term."
   ]
  },
  {
   "cell_type": "code",
   "execution_count": null,
   "id": "564d1024",
   "metadata": {
    "tags": []
   },
   "outputs": [],
   "source": [
    "# Function to perform keyword search on the simulated database\n",
    "def keyword_search(articles, keyword):\n",
    "    # Convert keyword to lowercase for case-insensitive matching\n",
    "    keyword = keyword.lower()\n",
    "    # Search for the keyword in the titles of the articles\n",
    "    results = [article for article in articles if keyword in article['title'].lower()]\n",
    "    return results"
   ]
  },
  {
   "cell_type": "markdown",
   "id": "4f45bbd0",
   "metadata": {},
   "source": [
    "The code prompts the user to enter a keyword through the input function. This keyword is then used to search the database. The search results are then displayed to the user in a simple text format that lists the title and the link of each matching article. The loop iterates over the search_results and prints them out."
   ]
  },
  {
   "cell_type": "code",
   "execution_count": null,
   "id": "888ea02e",
   "metadata": {
    "tags": []
   },
   "outputs": [],
   "source": [
    "# Example usage\n",
    "keyword = input(\"Enter a keyword to search: \")\n",
    "search_results = keyword_search(articles, keyword)\n",
    "\n",
    "# Display the search results\n",
    "for result in search_results:\n",
    "    print(result['title'], result['link'])"
   ]
  },
  {
   "cell_type": "code",
   "execution_count": null,
   "id": "3167833a",
   "metadata": {
    "tags": []
   },
   "outputs": [],
   "source": [
    "# Example usage\n",
    "keyword = input(\"Enter a keyword to search: \")\n",
    "search_results = keyword_search(articles, keyword)\n",
    "\n",
    "# Display the search results\n",
    "for result in search_results:\n",
    "    print(result['title'], result['link'])"
   ]
  },
  {
   "cell_type": "markdown",
   "id": "f7797c80",
   "metadata": {},
   "source": [
    "What we just saw are a very high level implementation."
   ]
  },
  {
   "cell_type": "markdown",
   "id": "75a4b2f5",
   "metadata": {},
   "source": [
    "# Search using BM25 Algo"
   ]
  },
  {
   "cell_type": "markdown",
   "id": "a6bb7b67",
   "metadata": {},
   "source": [
    "Implementing a keyword search using the BM25 algorithm in Python can be done using the rank_bm25 package, which is a lightweight BM25 implementation. \"20 Newsgroups\" is a collection of approximately 20,000 newsgroup documents, partitioned across 20 different newsgroups. This is a basic example of how keyword search can be implemented on a text dataset using the BM25 algorithm. It demonstrates preprocessing, scoring, and ranking documents based on their relevance to a given query."
   ]
  },
  {
   "cell_type": "code",
   "execution_count": null,
   "id": "136f29a6",
   "metadata": {},
   "outputs": [],
   "source": [
    "# !pip install rank-bm25"
   ]
  },
  {
   "cell_type": "code",
   "execution_count": 1,
   "id": "c3f38e4e",
   "metadata": {
    "tags": []
   },
   "outputs": [],
   "source": [
    "from rank_bm25 import BM25Okapi\n",
    "from sklearn.datasets import fetch_20newsgroups\n",
    "import string"
   ]
  },
  {
   "cell_type": "markdown",
   "id": "d8eb25a5",
   "metadata": {},
   "source": [
    "This function call retrieves the entire \"20 Newsgroups\" dataset, which is a collection of approximately 20,000 newsgroup documents."
   ]
  },
  {
   "cell_type": "code",
   "execution_count": 2,
   "id": "0792d651",
   "metadata": {
    "tags": []
   },
   "outputs": [],
   "source": [
    "# Fetch the dataset\n",
    "newsgroups = fetch_20newsgroups(subset='all')\n",
    "documents = newsgroups.data  # A list of documents (newsgroup posts)"
   ]
  },
  {
   "cell_type": "markdown",
   "id": "b3b07cb8",
   "metadata": {},
   "source": [
    "The preprocess function converts text to lowercase, removes punctuation, and splits it into words (tokens). This standardization is essential for effective keyword matching."
   ]
  },
  {
   "cell_type": "code",
   "execution_count": 3,
   "id": "45ad1ab4",
   "metadata": {
    "tags": []
   },
   "outputs": [],
   "source": [
    "# Preprocess the documents\n",
    "def preprocess(text):\n",
    "    return text.lower().translate(str.maketrans('', '', string.punctuation)).split()\n",
    "\n",
    "# Tokenize the documents\n",
    "tokenized_docs = [preprocess(doc) for doc in documents]"
   ]
  },
  {
   "cell_type": "markdown",
   "id": "fb505cea",
   "metadata": {},
   "source": [
    "This initializes the BM25 model with the preprocessed (tokenized) documents. The model will use this data to compute the relevance of documents to a query."
   ]
  },
  {
   "cell_type": "code",
   "execution_count": 4,
   "id": "c3d945ba",
   "metadata": {
    "tags": []
   },
   "outputs": [],
   "source": [
    "# Create a BM25 object\n",
    "bm25 = BM25Okapi(tokenized_docs)"
   ]
  },
  {
   "cell_type": "code",
   "execution_count": 5,
   "id": "1651ff4f",
   "metadata": {
    "tags": []
   },
   "outputs": [],
   "source": [
    "# Example search query\n",
    "query = \"What are some of the good gun manufacturing brands?\"\n",
    "tokenized_query = preprocess(query)"
   ]
  },
  {
   "cell_type": "markdown",
   "id": "72a8babd",
   "metadata": {},
   "source": [
    "The BM25 model calculates a score for each document based on its relevance to the query. These scores indicate how well each document matches the query."
   ]
  },
  {
   "cell_type": "code",
   "execution_count": 6,
   "id": "be277ea3",
   "metadata": {
    "tags": []
   },
   "outputs": [],
   "source": [
    "# Perform search\n",
    "doc_scores = bm25.get_scores(tokenized_query)"
   ]
  },
  {
   "cell_type": "code",
   "execution_count": 7,
   "id": "37224215",
   "metadata": {
    "tags": []
   },
   "outputs": [],
   "source": [
    "# Get top N documents\n",
    "top_n = 3\n",
    "top_doc_indices = sorted(range(len(doc_scores)), key=lambda i: doc_scores[i], reverse=True)[:top_n]"
   ]
  },
  {
   "cell_type": "markdown",
   "id": "fe929992",
   "metadata": {},
   "source": [
    "The script prints the file path (document ID), the BM25 score, and the first 200 characters of each of the top 3 documents. This gives you a glimpse of the content of the documents that are most relevant to the query \"good gun manufacturing brands\"."
   ]
  },
  {
   "cell_type": "code",
   "execution_count": 8,
   "id": "ad2be74d",
   "metadata": {
    "tags": []
   },
   "outputs": [
    {
     "name": "stdout",
     "output_type": "stream",
     "text": [
      "Document ID: /home/datascience/scikit_learn_data/20news_home/20news-bydate-train/talk.politics.guns/54187, Score: 24.239441992539824\n",
      "Document: From: fcrary@ucsu.Colorado.EDU (Frank Crary)\n",
      "Subject: Re: My Gun is like my American Express Card\n",
      "Nntp-Posting-Host: ucsu.colorado.edu\n",
      "Organization: University of Colorado, Boulder\n",
      "Lines: 85\n",
      "\n",
      "In article <CMM.0.90.2.735132009.thomasp@surt.ifi.uio.no> Thomas Parsli <thomasp@ifi.uio.no> writes:\n",
      ">Drivers licence:\n",
      ">Forgot that USA is THE land of cars.....\n",
      ">Getting one in Scandinavia (and northern europe) is not easy.\n",
      ">Average time is about 20 hours of training, and the cost is rather......\n",
      "\n",
      "Is the license required for driving a car exclusively on private\n",
      "property, such as a farm? Here in the United...\n",
      "\n",
      "Document ID: /home/datascience/scikit_learn_data/20news_home/20news-bydate-train/talk.politics.guns/54273, Score: 24.078773414761613\n",
      "Document: From: cdt@sw.stratus.com (C. D. Tavares)\n",
      "Subject: Re: My Gun is like my American Express Card\n",
      "Organization: Stratus Computer, Inc.\n",
      "Lines: 122\n",
      "Distribution: world\n",
      "NNTP-Posting-Host: rocket.sw.stratus.com\n",
      "\n",
      "In article <CMM.0.90.2.734911642.thomasp@surt.ifi.uio.no>, Thomas Parsli <thomasp@ifi.uio.no> writes:\n",
      "\n",
      "> If I would like to have a handgun, i would have to get an gun-licence from \n",
      "> the police and to be a member of a gun-club.\n",
      "> The police would check my criminal records for any SERIOUS crimes and/or\n",
      "> records of SERIOUS mental diseases.\n",
      "> Now, if a got my licence, I would have to be an activ...\n",
      "\n",
      "Document ID: /home/datascience/scikit_learn_data/20news_home/20news-bydate-train/sci.med/58795, Score: 23.829866649142822\n",
      "Document: From: kxgst1+@pitt.edu (Kenneth Gilbert)\n",
      "Subject: Re: Emphysema question\n",
      "Organization: University of Pittsburgh\n",
      "Lines: 14\n",
      "\n",
      "In article <1993Apr15.180621.29465@radford.vak12ed.edu> mmatusev@radford.vak12ed.edu (Melissa N. Matusevich) writes:\n",
      ":Thanks for all your assistance. I'll see if he can try a\n",
      ":different brand of patches, although he's tried two brands\n",
      ":already. Are there more than two?\n",
      "\n",
      "The brands I can come up with off the top of my head are Nicotrol,\n",
      "Nicoderm and Habitrol.  There may be a fourth as well.\n",
      "\n",
      "\n",
      "-- \n",
      "=-=-=-=-=-=-=-=-=-=-=-=-=-=-=-=-=-|-=-=-=-=-=-=-=-=-=-=-=-=-=-=-=-=-=-=-=\n",
      "=  K...\n",
      "\n"
     ]
    }
   ],
   "source": [
    "# Display top N results\n",
    "for idx in top_doc_indices:\n",
    "    print(f\"Document ID: {newsgroups.filenames[idx]}, Score: {doc_scores[idx]}\\nDocument: {documents[idx][:600]}...\\n\")"
   ]
  },
  {
   "cell_type": "code",
   "execution_count": null,
   "id": "4a623c94-5020-430c-96b6-31d214e0fe60",
   "metadata": {},
   "outputs": [],
   "source": []
  }
 ],
 "metadata": {
  "kernelspec": {
   "display_name": "Python [conda env:generalml_p38_cpu_v1]",
   "language": "python",
   "name": "conda-env-generalml_p38_cpu_v1-py"
  },
  "language_info": {
   "codemirror_mode": {
    "name": "ipython",
    "version": 3
   },
   "file_extension": ".py",
   "mimetype": "text/x-python",
   "name": "python",
   "nbconvert_exporter": "python",
   "pygments_lexer": "ipython3",
   "version": "3.8.13"
  }
 },
 "nbformat": 4,
 "nbformat_minor": 5
}
